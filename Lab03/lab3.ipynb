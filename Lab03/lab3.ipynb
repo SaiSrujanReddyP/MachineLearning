"""
A1. Evaluate the intraclass spread and interclass distances between the classes in your dataset. If your data deals with multiple classes, you can take any two classes.
 Steps below (refer below diagram for understanding):
•
Calculate the mean for each class (also called as class centroid) (Suggestion: You may use numpy.mean() function for finding the average vector for all vectors in a
given class. Please define the axis property appropriately to use this function. EX: feat_vecs.mean(axis=0))
•
Calculate spread (standard deviation) for each class (Suggestion: You may use numpy.std() function for finding the standard deviation vector for
all vectors in a given class. Please define the axis property appropriately to use this function.)
•
Calculate the distance between mean vectors between classes (Suggestion: numpy.linalg.norm(centroid1 – centroid2) gives the Euclidean distance between two centroids.)
"""
